{
 "cells": [
  {
   "cell_type": "code",
   "execution_count": null,
   "id": "59495cd9",
   "metadata": {},
   "outputs": [],
   "source": [
    "!git clone https://github.com/hoangducanh1865/topic-models"
   ]
  },
  {
   "cell_type": "code",
   "execution_count": null,
   "id": "349b7583",
   "metadata": {},
   "outputs": [],
   "source": [
    "'''\n",
    "git config user.name \n",
    "git config user.email\n",
    "git remote -v \n",
    "git branch \n",
    "\n",
    "git status\n",
    "\n",
    "git add . \n",
    "git commit -m “Update”\n",
    "git push -u origin main \n",
    "\n",
    "\n",
    "git reset --mixed HEAD~1\n",
    "git push origin HEAD --force\n",
    "'''\n",
    "\n",
    "%cd topic-models\n",
    "!git pull \n",
    "%cd .."
   ]
  },
  {
   "cell_type": "code",
   "execution_count": null,
   "id": "2c058aaa",
   "metadata": {},
   "outputs": [],
   "source": [
    "%pip install -r topic-models/requirements.txt"
   ]
  },
  {
   "cell_type": "code",
   "execution_count": null,
   "id": "2681045e",
   "metadata": {},
   "outputs": [],
   "source": [
    "!python topic-models/main.py"
   ]
  }
 ],
 "metadata": {
  "kernelspec": {
   "display_name": "BASE",
   "language": "python",
   "name": "python3"
  },
  "language_info": {
   "name": "python",
   "version": "3.10.16"
  }
 },
 "nbformat": 4,
 "nbformat_minor": 5
}
